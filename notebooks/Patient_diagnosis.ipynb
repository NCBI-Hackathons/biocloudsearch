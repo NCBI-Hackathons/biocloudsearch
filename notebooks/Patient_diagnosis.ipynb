{
 "cells": [
  {
   "cell_type": "code",
   "execution_count": 1,
   "metadata": {},
   "outputs": [],
   "source": [
    "import pandas as pd\n",
    "import numpy as np\n",
    "import matplotlib.pyplot as plt\n",
    "import json\n",
    "import os"
   ]
  },
  {
   "cell_type": "markdown",
   "metadata": {},
   "source": [
    "### The interesting datasets seems to be:\n",
    "        * condition_occurrence : where all the diagnosis can symptoms are stored\n",
    "        * observation: test and measurements done\n",
    "        * measurement_occurrence_1\n",
    "        * precedure_occurene_1"
   ]
  },
  {
   "cell_type": "code",
   "execution_count": 2,
   "metadata": {},
   "outputs": [],
   "source": [
    "csv_directory = \"/home/ubuntu/zehai/data/synpuf/\"\n",
    "json_directory = \"/home/ubuntu/zehai/data/AchillesExport/\""
   ]
  },
  {
   "cell_type": "code",
   "execution_count": 3,
   "metadata": {},
   "outputs": [],
   "source": [
    "## Load the condition_occation file from the directory\n",
    "condition_occur = pd.read_csv(csv_directory +\"condition_occurrence.csv\",dtype={'condition_concept_id':'int64',\n",
    " 'condition_end_date': 'O',\n",
    " 'condition_occurrence_id':'int64',\n",
    " 'condition_source_concept_id':'int64',\n",
    " 'condition_source_value':'O',\n",
    " 'condition_start_date':'O',\n",
    " 'condition_type_concept_id':'int64',\n",
    " 'person_id':'int64',\n",
    " 'provider_id':'float64',\n",
    " 'stop_reason': 'float64',\n",
    " 'visit_occurrence_id': 'int64'}, nrows = 43367979 )"
   ]
  },
  {
   "cell_type": "code",
   "execution_count": 4,
   "metadata": {},
   "outputs": [],
   "source": [
    "#read the condition map from Json file\n",
    "condition_map = pd.read_json(json_directory+\"condition_treemap.json\")"
   ]
  },
  {
   "cell_type": "code",
   "execution_count": 5,
   "metadata": {},
   "outputs": [],
   "source": [
    "# read the observation file\n",
    "observation = pd.read_csv(csv_directory+\"observation.csv\", dtype = {'observation_concept_id': 'int64',\n",
    " 'observation_date': 'O',\n",
    " 'observation_id': 'int64',\n",
    " 'observation_source_concept_id': 'int64',\n",
    " 'observation_source_value': 'O',\n",
    " 'observation_time': 'float64',\n",
    " 'observation_type_concept_id': 'int64',\n",
    " 'person_id': 'int64',\n",
    " 'provider_id': 'float64',\n",
    " 'qualifier_concept_id': 'float64',\n",
    " 'qualifier_source_value': 'float64',\n",
    " 'unit_concept_id': 'float64',\n",
    " 'unit_source_value': 'float64',\n",
    " 'value_as_concept_id': 'int64',\n",
    " 'value_as_number': 'float64',\n",
    " 'value_as_string': 'float64',\n",
    " 'visit_occurrence_id': 'int64'})"
   ]
  },
  {
   "cell_type": "code",
   "execution_count": 6,
   "metadata": {},
   "outputs": [],
   "source": [
    "# Load brain antonmy keys from txt fiel\n",
    "with open('brain_antonomy_keys.txt') as f:\n",
    "     read_data = f.read()\n",
    "f.closed\n",
    "antonomy_regions = [x.strip() for x in read_data.split(',')]"
   ]
  },
  {
   "cell_type": "code",
   "execution_count": 7,
   "metadata": {},
   "outputs": [],
   "source": [
    "# read the observation map\n",
    "ob_map = pd.read_json(json_directory+\"observation_treemap.json\")"
   ]
  },
  {
   "cell_type": "code",
   "execution_count": 8,
   "metadata": {},
   "outputs": [],
   "source": [
    "# conditionera map from Json dir\n",
    "conditionera_map = pd.read_json(json_directory+\"conditionera_treemap.json\")"
   ]
  },
  {
   "cell_type": "code",
   "execution_count": 9,
   "metadata": {},
   "outputs": [],
   "source": [
    "# read the Head MRI related patient from the oberservation dataset\n",
    "#      CONCEPT_ID                                       CONCEPT_PATH  \\   \n",
    "# 121     2106371  Radiography of head||Regional contrast radiolo...   \n",
    "# 218     2106382  Radiography of head||Regional contrast radiolo...     \n",
    "\n",
    "#      NUM_PERSONS  PERCENT_PERSONS  RECORDS_PER_PERSON   \n",
    "# 121         1137         0.009772            1.117854  \n",
    "# 218          519         0.004461            1.015414   \n",
    "\n",
    "brain_identify_patient = observation[(observation['observation_concept_id']==2106371)\n",
    "                                     |(observation['observation_concept_id']==2106382)]\n",
    "patient_id = brain_identify_patient['person_id'].drop_duplicates()"
   ]
  },
  {
   "cell_type": "code",
   "execution_count": 10,
   "metadata": {},
   "outputs": [],
   "source": [
    "# select all the patients with head mri scan history\n",
    "mri_condition_occur = condition_occur[condition_occur['person_id'].isin(list(patient_id))]"
   ]
  },
  {
   "cell_type": "code",
   "execution_count": 11,
   "metadata": {},
   "outputs": [],
   "source": [
    "# de_duplicate condition_concept, select all the symptoms related to the MRI patients\n",
    "mri_conditions = mri_condition_occur.loc[:,['person_id','condition_concept_id']]\n",
    "head_condition = mri_conditions.condition_concept_id.drop_duplicates()\n",
    "mri_related_symptom = condition_map['CONCEPT_PATH'][condition_map.CONCEPT_ID.isin(list(head_condition))]"
   ]
  },
  {
   "cell_type": "code",
   "execution_count": 12,
   "metadata": {},
   "outputs": [],
   "source": [
    "# load brain antonmy keys from txt fiel\n",
    "with open('brain_antonomy_keys.txt') as f:\n",
    "     read_data = f.read()\n",
    "f.closed\n",
    "antonomy_regions = [x.strip() for x in read_data.split(',')]"
   ]
  },
  {
   "cell_type": "code",
   "execution_count": 14,
   "metadata": {},
   "outputs": [],
   "source": [
    "# converted everything to lower case for matching\n",
    "antonomy_regions = [x.lower() for x in antonomy_regions]\n",
    "conditionera_map['CONCEPT_PATH'] = conditionera_map['CONCEPT_PATH'].str.lower()"
   ]
  },
  {
   "cell_type": "code",
   "execution_count": 15,
   "metadata": {},
   "outputs": [
    {
     "name": "stderr",
     "output_type": "stream",
     "text": [
      "/home/ubuntu/.local/lib/python3.5/site-packages/ipykernel_launcher.py:2: UserWarning: This pattern has match groups. To actually get the groups, use str.extract.\n",
      "  \n"
     ]
    }
   ],
   "source": [
    "# match the conditionera SNOMED discriptions with the brain section regions\n",
    "brain_related_map = conditionera_map.loc[:,['CONCEPT_ID','CONCEPT_PATH']]\\\n",
    "[sum([conditionera_map['CONCEPT_PATH'].str.contains(x) for x in antonomy_regions])>0]"
   ]
  },
  {
   "cell_type": "code",
   "execution_count": 16,
   "metadata": {},
   "outputs": [
    {
     "name": "stderr",
     "output_type": "stream",
     "text": [
      "/home/ubuntu/.local/lib/python3.5/site-packages/ipykernel_launcher.py:9: SettingWithCopyWarning: \n",
      "A value is trying to be set on a copy of a slice from a DataFrame\n",
      "\n",
      "See the caveats in the documentation: http://pandas.pydata.org/pandas-docs/stable/indexing.html#indexing-view-versus-copy\n",
      "  if __name__ == '__main__':\n"
     ]
    }
   ],
   "source": [
    "# select all mri patient with final brain issue diagnosis\n",
    "brain_related_list = list(brain_related_map['CONCEPT_ID'])\n",
    "brain_problem_diagnosis = mri_conditions.loc[:,['person_id','condition_concept_id']]\\\n",
    "[mri_conditions['condition_concept_id'].isin(brain_related_list)]\n",
    "brain_problem_patients = brain_problem_diagnosis.drop_duplicates()\n",
    "brain_problem_diagnosis['diagnosis'] = 0\n",
    "brain_related_list = list(brain_related_map['CONCEPT_ID'])\n",
    "brain_diagnosis = list(brain_related_map['CONCEPT_PATH'].str.split('|', expand=True)[8])\n",
    "for i in range(len(brain_related_list)):\n",
    "    brain_problem_diagnosis['diagnosis'][brain_problem_diagnosis['condition_concept_id']== brain_related_list[i]] = brain_diagnosis[i]"
   ]
  },
  {
   "cell_type": "code",
   "execution_count": 17,
   "metadata": {},
   "outputs": [
    {
     "data": {
      "text/plain": [
       "12823    42872402\n",
       "12824      437827\n",
       "12825      321588\n",
       "12826      434005\n",
       "12827      140673\n",
       "Name: condition_concept_id, dtype: int64"
      ]
     },
     "execution_count": 17,
     "metadata": {},
     "output_type": "execute_result"
    }
   ],
   "source": [
    "# selected all symptoms related to brain issue\n",
    "mri_symptoms = mri_conditions[mri_conditions.condition_concept_id.isin(brain_related_list)==False].drop_duplicates()\n",
    "symptoms_of_braindamage = mri_symptoms.condition_concept_id.drop_duplicates()\n",
    "symptoms_of_braindamage.head()"
   ]
  },
  {
   "cell_type": "code",
   "execution_count": 18,
   "metadata": {},
   "outputs": [
    {
     "data": {
      "text/html": [
       "<div>\n",
       "<style scoped>\n",
       "    .dataframe tbody tr th:only-of-type {\n",
       "        vertical-align: middle;\n",
       "    }\n",
       "\n",
       "    .dataframe tbody tr th {\n",
       "        vertical-align: top;\n",
       "    }\n",
       "\n",
       "    .dataframe thead th {\n",
       "        text-align: right;\n",
       "    }\n",
       "</style>\n",
       "<table border=\"1\" class=\"dataframe\">\n",
       "  <thead>\n",
       "    <tr style=\"text-align: right;\">\n",
       "      <th></th>\n",
       "      <th>index</th>\n",
       "      <th>CONCEPT_ID</th>\n",
       "      <th>CONCEPT_PATH</th>\n",
       "    </tr>\n",
       "  </thead>\n",
       "  <tbody>\n",
       "    <tr>\n",
       "      <th>0</th>\n",
       "      <td>0</td>\n",
       "      <td>201826</td>\n",
       "      <td>NA||NA||NA||NA||Type 2 diabetes mellitus</td>\n",
       "    </tr>\n",
       "    <tr>\n",
       "      <th>1</th>\n",
       "      <td>1</td>\n",
       "      <td>437827</td>\n",
       "      <td>NA||NA||NA||NA||Pure hypercholesterolemia</td>\n",
       "    </tr>\n",
       "    <tr>\n",
       "      <th>2</th>\n",
       "      <td>2</td>\n",
       "      <td>140673</td>\n",
       "      <td>NA||NA||NA||NA||Hypothyroidism</td>\n",
       "    </tr>\n",
       "    <tr>\n",
       "      <th>3</th>\n",
       "      <td>3</td>\n",
       "      <td>313217</td>\n",
       "      <td>NA||NA||NA||NA||Atrial fibrillation</td>\n",
       "    </tr>\n",
       "    <tr>\n",
       "      <th>4</th>\n",
       "      <td>4</td>\n",
       "      <td>439926</td>\n",
       "      <td>NA||NA||NA||NA||Malaise and fatigue</td>\n",
       "    </tr>\n",
       "  </tbody>\n",
       "</table>\n",
       "</div>"
      ],
      "text/plain": [
       "   index  CONCEPT_ID                               CONCEPT_PATH\n",
       "0      0      201826   NA||NA||NA||NA||Type 2 diabetes mellitus\n",
       "1      1      437827  NA||NA||NA||NA||Pure hypercholesterolemia\n",
       "2      2      140673             NA||NA||NA||NA||Hypothyroidism\n",
       "3      3      313217        NA||NA||NA||NA||Atrial fibrillation\n",
       "4      4      439926        NA||NA||NA||NA||Malaise and fatigue"
      ]
     },
     "execution_count": 18,
     "metadata": {},
     "output_type": "execute_result"
    }
   ],
   "source": [
    "# selected specific symptom with brain issue population\n",
    "symptomlist = condition_map.loc[:,['CONCEPT_ID','CONCEPT_PATH']][condition_map['CONCEPT_ID'].isin(list(symptoms_of_braindamage))]\n",
    "symptomlist = symptomlist.reset_index()\n",
    "symptomlist.head()"
   ]
  },
  {
   "cell_type": "code",
   "execution_count": 48,
   "metadata": {},
   "outputs": [],
   "source": [
    "# read in all the neurosynth dictionary\n",
    "with open('/home/ubuntu/zehai/data/NS_TERMS.txt') as f:\n",
    "     read_data = f.read()\n",
    "f.closed\n",
    "neuro_keylist = [x.strip() for x in read_data.split('\\n')]"
   ]
  },
  {
   "cell_type": "code",
   "execution_count": 49,
   "metadata": {},
   "outputs": [
    {
     "data": {
      "text/html": [
       "<div>\n",
       "<style scoped>\n",
       "    .dataframe tbody tr th:only-of-type {\n",
       "        vertical-align: middle;\n",
       "    }\n",
       "\n",
       "    .dataframe tbody tr th {\n",
       "        vertical-align: top;\n",
       "    }\n",
       "\n",
       "    .dataframe thead th {\n",
       "        text-align: right;\n",
       "    }\n",
       "</style>\n",
       "<table border=\"1\" class=\"dataframe\">\n",
       "  <thead>\n",
       "    <tr style=\"text-align: right;\">\n",
       "      <th></th>\n",
       "      <th>person_id</th>\n",
       "      <th>condition_concept_id</th>\n",
       "      <th>diagnosis</th>\n",
       "    </tr>\n",
       "  </thead>\n",
       "  <tbody>\n",
       "    <tr>\n",
       "      <th>246025</th>\n",
       "      <td>1928</td>\n",
       "      <td>137519</td>\n",
       "      <td>thyrotoxicosis from ectopic thyroid nodule wit...</td>\n",
       "    </tr>\n",
       "    <tr>\n",
       "      <th>421191</th>\n",
       "      <td>3332</td>\n",
       "      <td>377842</td>\n",
       "      <td>frontal lobe syndrome</td>\n",
       "    </tr>\n",
       "    <tr>\n",
       "      <th>561170</th>\n",
       "      <td>4359</td>\n",
       "      <td>4181481</td>\n",
       "      <td>malignant neoplasm of parietal lobe</td>\n",
       "    </tr>\n",
       "    <tr>\n",
       "      <th>736777</th>\n",
       "      <td>5780</td>\n",
       "      <td>434821</td>\n",
       "      <td>systemic inflammatory response syndrome</td>\n",
       "    </tr>\n",
       "    <tr>\n",
       "      <th>839888</th>\n",
       "      <td>6591</td>\n",
       "      <td>377842</td>\n",
       "      <td>frontal lobe syndrome</td>\n",
       "    </tr>\n",
       "  </tbody>\n",
       "</table>\n",
       "</div>"
      ],
      "text/plain": [
       "        person_id  condition_concept_id  \\\n",
       "246025       1928                137519   \n",
       "421191       3332                377842   \n",
       "561170       4359               4181481   \n",
       "736777       5780                434821   \n",
       "839888       6591                377842   \n",
       "\n",
       "                                                diagnosis  \n",
       "246025  thyrotoxicosis from ectopic thyroid nodule wit...  \n",
       "421191                              frontal lobe syndrome  \n",
       "561170                malignant neoplasm of parietal lobe  \n",
       "736777            systemic inflammatory response syndrome  \n",
       "839888                              frontal lobe syndrome  "
      ]
     },
     "execution_count": 49,
     "metadata": {},
     "output_type": "execute_result"
    }
   ],
   "source": [
    "brain_problem_diagnosis_deduplic.head()"
   ]
  },
  {
   "cell_type": "code",
   "execution_count": 50,
   "metadata": {},
   "outputs": [
    {
     "data": {
      "text/plain": [
       "0    [42872402, 437827, 321588, 434005, 140673, 319...\n",
       "1    [4324765, 318800, 73754, 74464, 192357, 28974,...\n",
       "2    [78804, 80767, 77030, 75617, 72578, 200970, 43...\n",
       "3    [259043, 318800, 437827, 80180, 313217, 416146...\n",
       "4    [256449, 201826, 319835, 436665, 313878, 26012...\n",
       "Name: condition_concept_id, dtype: object"
      ]
     },
     "execution_count": 50,
     "metadata": {},
     "output_type": "execute_result"
    }
   ],
   "source": [
    "patient_symptoms.head()"
   ]
  },
  {
   "cell_type": "code",
   "execution_count": 52,
   "metadata": {},
   "outputs": [
    {
     "data": {
      "text/html": [
       "<div>\n",
       "<style scoped>\n",
       "    .dataframe tbody tr th:only-of-type {\n",
       "        vertical-align: middle;\n",
       "    }\n",
       "\n",
       "    .dataframe tbody tr th {\n",
       "        vertical-align: top;\n",
       "    }\n",
       "\n",
       "    .dataframe thead th {\n",
       "        text-align: right;\n",
       "    }\n",
       "</style>\n",
       "<table border=\"1\" class=\"dataframe\">\n",
       "  <thead>\n",
       "    <tr style=\"text-align: right;\">\n",
       "      <th></th>\n",
       "      <th>person_id</th>\n",
       "      <th>diagnosis_id</th>\n",
       "      <th>diagnosis</th>\n",
       "      <th>symptom_id_list</th>\n",
       "    </tr>\n",
       "  </thead>\n",
       "  <tbody>\n",
       "    <tr>\n",
       "      <th>0</th>\n",
       "      <td>1928</td>\n",
       "      <td>137519</td>\n",
       "      <td>thyrotoxicosis from ectopic thyroid nodule wit...</td>\n",
       "      <td>[440977, 42872402, 443597, 137829, 201826, 376...</td>\n",
       "    </tr>\n",
       "    <tr>\n",
       "      <th>1</th>\n",
       "      <td>3332</td>\n",
       "      <td>377842</td>\n",
       "      <td>frontal lobe syndrome</td>\n",
       "      <td>[201072, 433736, 201826, 377091, 319835, 37432...</td>\n",
       "    </tr>\n",
       "    <tr>\n",
       "      <th>2</th>\n",
       "      <td>4359</td>\n",
       "      <td>4181481</td>\n",
       "      <td>malignant neoplasm of parietal lobe</td>\n",
       "      <td>[319049, 440385, 374022, 193688, 81902, 435141...</td>\n",
       "    </tr>\n",
       "    <tr>\n",
       "      <th>3</th>\n",
       "      <td>5780</td>\n",
       "      <td>434821</td>\n",
       "      <td>systemic inflammatory response syndrome</td>\n",
       "      <td>[444406, 438624, 40480602, 441829, 42872402, 4...</td>\n",
       "    </tr>\n",
       "    <tr>\n",
       "      <th>4</th>\n",
       "      <td>6591</td>\n",
       "      <td>377842</td>\n",
       "      <td>frontal lobe syndrome</td>\n",
       "      <td>[444406, 132797, 42872402, 4112183, 318800, 38...</td>\n",
       "    </tr>\n",
       "  </tbody>\n",
       "</table>\n",
       "</div>"
      ],
      "text/plain": [
       "   person_id  diagnosis_id                                          diagnosis  \\\n",
       "0       1928        137519  thyrotoxicosis from ectopic thyroid nodule wit...   \n",
       "1       3332        377842                              frontal lobe syndrome   \n",
       "2       4359       4181481                malignant neoplasm of parietal lobe   \n",
       "3       5780        434821            systemic inflammatory response syndrome   \n",
       "4       6591        377842                              frontal lobe syndrome   \n",
       "\n",
       "                                     symptom_id_list  \n",
       "0  [440977, 42872402, 443597, 137829, 201826, 376...  \n",
       "1  [201072, 433736, 201826, 377091, 319835, 37432...  \n",
       "2  [319049, 440385, 374022, 193688, 81902, 435141...  \n",
       "3  [444406, 438624, 40480602, 441829, 42872402, 4...  \n",
       "4  [444406, 132797, 42872402, 4112183, 318800, 38...  "
      ]
     },
     "execution_count": 52,
     "metadata": {},
     "output_type": "execute_result"
    }
   ],
   "source": [
    "patient_symptoms = mri_symptoms.groupby('person_id')['condition_concept_id'].apply(list).reset_index()\n",
    "brain_problem_diagnosis_deduplic = brain_problem_diagnosis.drop_duplicates()\n",
    "final_parse = pd.merge(brain_problem_diagnosis_deduplic, patient_symptoms, on='person_id', how='inner')\n",
    "final_parse.head()\n",
    "final_parse.rename(columns={'condition_concept_id_x': 'diagnosis_id', 'condition_concept_id_y': 'symptom_id_list'}, inplace=True)\n",
    "final_parse.head()"
   ]
  },
  {
   "cell_type": "code",
   "execution_count": 89,
   "metadata": {},
   "outputs": [],
   "source": [
    "def keys_append(concept_path,neuro_keylist):\n",
    "    # append neurosynth keys to symptom map\n",
    "    concept_path = concept_path.lower()\n",
    "    keylist = []\n",
    "    for x in neuro_keylist:\n",
    "        # String length greater than 3 is totally arbitrary\n",
    "        # But it makes the resulting lists look way better, so\n",
    "        # For the sake of expediency, we're going with it\n",
    "        # TODO: get a better heuristic here\n",
    "        if concept_path.find(' ' + x) != -1 and len(x) > 3:\n",
    "            keylist.append(x)\n",
    "    #keylist = ', '.join(keylist)\n",
    "    return keylist\n",
    "\n",
    "symp_list = []\n",
    "for i in list(symptomlist.CONCEPT_PATH):\n",
    "    #list of keys concatenated\n",
    "    symp_list.append(keys_append(i, neuro_keylist))"
   ]
  },
  {
   "cell_type": "code",
   "execution_count": 90,
   "metadata": {},
   "outputs": [
    {
     "data": {
      "text/html": [
       "<div>\n",
       "<style scoped>\n",
       "    .dataframe tbody tr th:only-of-type {\n",
       "        vertical-align: middle;\n",
       "    }\n",
       "\n",
       "    .dataframe tbody tr th {\n",
       "        vertical-align: top;\n",
       "    }\n",
       "\n",
       "    .dataframe thead th {\n",
       "        text-align: right;\n",
       "    }\n",
       "</style>\n",
       "<table border=\"1\" class=\"dataframe\">\n",
       "  <thead>\n",
       "    <tr style=\"text-align: right;\">\n",
       "      <th></th>\n",
       "      <th>index</th>\n",
       "      <th>CONCEPT_ID</th>\n",
       "      <th>CONCEPT_PATH</th>\n",
       "      <th>keys_list</th>\n",
       "    </tr>\n",
       "  </thead>\n",
       "  <tbody>\n",
       "    <tr>\n",
       "      <th>6632</th>\n",
       "      <td>7128</td>\n",
       "      <td>193136</td>\n",
       "      <td>NA||NA||NA||NA||Acute gonococcal cervicitis</td>\n",
       "      <td>[]</td>\n",
       "    </tr>\n",
       "    <tr>\n",
       "      <th>6633</th>\n",
       "      <td>7130</td>\n",
       "      <td>4237906</td>\n",
       "      <td>NA||NA||NA||NA||Poisoning by caffeine</td>\n",
       "      <td>[]</td>\n",
       "    </tr>\n",
       "    <tr>\n",
       "      <th>6634</th>\n",
       "      <td>7134</td>\n",
       "      <td>194288</td>\n",
       "      <td>NA||NA||NA||NA||Chlamydial infection of anus a...</td>\n",
       "      <td>[]</td>\n",
       "    </tr>\n",
       "    <tr>\n",
       "      <th>6635</th>\n",
       "      <td>7136</td>\n",
       "      <td>374020</td>\n",
       "      <td>NA||NA||NA||NA||Infective encephalitis</td>\n",
       "      <td>[]</td>\n",
       "    </tr>\n",
       "    <tr>\n",
       "      <th>6636</th>\n",
       "      <td>7137</td>\n",
       "      <td>434509</td>\n",
       "      <td>NA||NA||NA||NA||Injury of duodenum without ope...</td>\n",
       "      <td>[open]</td>\n",
       "    </tr>\n",
       "  </tbody>\n",
       "</table>\n",
       "</div>"
      ],
      "text/plain": [
       "      index  CONCEPT_ID                                       CONCEPT_PATH  \\\n",
       "6632   7128      193136        NA||NA||NA||NA||Acute gonococcal cervicitis   \n",
       "6633   7130     4237906              NA||NA||NA||NA||Poisoning by caffeine   \n",
       "6634   7134      194288  NA||NA||NA||NA||Chlamydial infection of anus a...   \n",
       "6635   7136      374020             NA||NA||NA||NA||Infective encephalitis   \n",
       "6636   7137      434509  NA||NA||NA||NA||Injury of duodenum without ope...   \n",
       "\n",
       "     keys_list  \n",
       "6632        []  \n",
       "6633        []  \n",
       "6634        []  \n",
       "6635        []  \n",
       "6636    [open]  "
      ]
     },
     "execution_count": 90,
     "metadata": {},
     "output_type": "execute_result"
    }
   ],
   "source": [
    "# Add symptom key_list to patient table\n",
    "sl = pd.Series( (v for v in symp_list) )\n",
    "# symptomlist = symptomlist.drop(columns = 'index')\n",
    "symptomlist['keys_list'] = sl\n",
    "symptomlist.tail()"
   ]
  },
  {
   "cell_type": "code",
   "execution_count": 91,
   "metadata": {},
   "outputs": [
    {
     "ename": "NameError",
     "evalue": "name 'keylist' is not defined",
     "output_type": "error",
     "traceback": [
      "\u001b[0;31m---------------------------------------------------------------------------\u001b[0m",
      "\u001b[0;31mNameError\u001b[0m                                 Traceback (most recent call last)",
      "\u001b[0;32m<ipython-input-91-def320511094>\u001b[0m in \u001b[0;36m<module>\u001b[0;34m()\u001b[0m\n\u001b[0;32m----> 1\u001b[0;31m \u001b[0mlen\u001b[0m\u001b[0;34m(\u001b[0m\u001b[0mkeylist\u001b[0m\u001b[0;34m)\u001b[0m\u001b[0;34m\u001b[0m\u001b[0m\n\u001b[0m\u001b[1;32m      2\u001b[0m \u001b[0mlist\u001b[0m\u001b[0;34m(\u001b[0m\u001b[0msymptomlist\u001b[0m\u001b[0;34m[\u001b[0m\u001b[0;34m'keys_list'\u001b[0m\u001b[0;34m]\u001b[0m\u001b[0;34m[\u001b[0m\u001b[0msymptomlist\u001b[0m\u001b[0;34m[\u001b[0m\u001b[0;34m'CONCEPT_ID'\u001b[0m\u001b[0;34m]\u001b[0m\u001b[0;34m==\u001b[0m\u001b[0;36m434509\u001b[0m\u001b[0;34m]\u001b[0m\u001b[0;34m)\u001b[0m\u001b[0;34m[\u001b[0m\u001b[0;36m0\u001b[0m\u001b[0;34m]\u001b[0m\u001b[0;34m\u001b[0m\u001b[0m\n",
      "\u001b[0;31mNameError\u001b[0m: name 'keylist' is not defined"
     ]
    }
   ],
   "source": [
    "len(keylist)\n",
    "list(symptomlist['keys_list'][symptomlist['CONCEPT_ID']==434509])[0]\n"
   ]
  },
  {
   "cell_type": "code",
   "execution_count": 92,
   "metadata": {},
   "outputs": [],
   "source": [
    "def key_match(keylist,symptomlist):\n",
    "    # match all the keylist with the symptom to neurosynth dict\n",
    "    # translate symptoms to key\n",
    "    keys_per_symp = []\n",
    "    for i in keylist:\n",
    "        thinging = list(symptomlist['keys_list'][symptomlist['CONCEPT_ID']==i])\n",
    "        if thinging==[]:\n",
    "            keys_per_symp.append(thinging)\n",
    "        else:\n",
    "            keys_per_symp.append(thinging[0])\n",
    "    return keys_per_symp\n",
    "\n",
    "## test on the first patient\n",
    "# keylist = final_parse.symptom_id_list[0]\n",
    "# key_match(keylist,symptomlist)\n",
    "\n",
    "# type(symptomlist['keys_list'][symptomlist['CONCEPT_ID']==440977])\n",
    "\n",
    "keys_per_person =[]\n",
    "for x in list(final_parse.symptom_id_list):\n",
    "        keys_per_person.append(key_match(x,symptomlist))"
   ]
  },
  {
   "cell_type": "code",
   "execution_count": 93,
   "metadata": {},
   "outputs": [
    {
     "data": {
      "text/html": [
       "<div>\n",
       "<style scoped>\n",
       "    .dataframe tbody tr th:only-of-type {\n",
       "        vertical-align: middle;\n",
       "    }\n",
       "\n",
       "    .dataframe tbody tr th {\n",
       "        vertical-align: top;\n",
       "    }\n",
       "\n",
       "    .dataframe thead th {\n",
       "        text-align: right;\n",
       "    }\n",
       "</style>\n",
       "<table border=\"1\" class=\"dataframe\">\n",
       "  <thead>\n",
       "    <tr style=\"text-align: right;\">\n",
       "      <th></th>\n",
       "      <th>person_id</th>\n",
       "      <th>diagnosis_id</th>\n",
       "      <th>diagnosis</th>\n",
       "      <th>symptom_id_list</th>\n",
       "      <th>neurosynth_keys</th>\n",
       "    </tr>\n",
       "  </thead>\n",
       "  <tbody>\n",
       "    <tr>\n",
       "      <th>0</th>\n",
       "      <td>1928</td>\n",
       "      <td>137519</td>\n",
       "      <td>thyrotoxicosis from ectopic thyroid nodule wit...</td>\n",
       "      <td>[440977, 42872402, 443597, 137829, 201826, 376...</td>\n",
       "      <td>[[], [native], [disease, stage], [], [], [tiss...</td>\n",
       "    </tr>\n",
       "    <tr>\n",
       "      <th>1</th>\n",
       "      <td>3332</td>\n",
       "      <td>377842</td>\n",
       "      <td>frontal lobe syndrome</td>\n",
       "      <td>[201072, 433736, 201826, 377091, 319835, 37432...</td>\n",
       "      <td>[[], [], [], [], [failure, heart], [dementia, ...</td>\n",
       "    </tr>\n",
       "    <tr>\n",
       "      <th>2</th>\n",
       "      <td>4359</td>\n",
       "      <td>4181481</td>\n",
       "      <td>malignant neoplasm of parietal lobe</td>\n",
       "      <td>[319049, 440385, 374022, 193688, 81902, 435141...</td>\n",
       "      <td>[[failure], [], [], [], [disease, tract], [pro...</td>\n",
       "    </tr>\n",
       "    <tr>\n",
       "      <th>3</th>\n",
       "      <td>5780</td>\n",
       "      <td>434821</td>\n",
       "      <td>systemic inflammatory response syndrome</td>\n",
       "      <td>[444406, 438624, 40480602, 441829, 42872402, 4...</td>\n",
       "      <td>[[], [], [chronic, failure, heart], [], [nativ...</td>\n",
       "    </tr>\n",
       "    <tr>\n",
       "      <th>4</th>\n",
       "      <td>6591</td>\n",
       "      <td>377842</td>\n",
       "      <td>frontal lobe syndrome</td>\n",
       "      <td>[444406, 132797, 42872402, 4112183, 318800, 38...</td>\n",
       "      <td>[[], [], [native], [disorder], [disease], [], ...</td>\n",
       "    </tr>\n",
       "  </tbody>\n",
       "</table>\n",
       "</div>"
      ],
      "text/plain": [
       "   person_id  diagnosis_id                                          diagnosis  \\\n",
       "0       1928        137519  thyrotoxicosis from ectopic thyroid nodule wit...   \n",
       "1       3332        377842                              frontal lobe syndrome   \n",
       "2       4359       4181481                malignant neoplasm of parietal lobe   \n",
       "3       5780        434821            systemic inflammatory response syndrome   \n",
       "4       6591        377842                              frontal lobe syndrome   \n",
       "\n",
       "                                     symptom_id_list  \\\n",
       "0  [440977, 42872402, 443597, 137829, 201826, 376...   \n",
       "1  [201072, 433736, 201826, 377091, 319835, 37432...   \n",
       "2  [319049, 440385, 374022, 193688, 81902, 435141...   \n",
       "3  [444406, 438624, 40480602, 441829, 42872402, 4...   \n",
       "4  [444406, 132797, 42872402, 4112183, 318800, 38...   \n",
       "\n",
       "                                     neurosynth_keys  \n",
       "0  [[], [native], [disease, stage], [], [], [tiss...  \n",
       "1  [[], [], [], [], [failure, heart], [dementia, ...  \n",
       "2  [[failure], [], [], [], [disease, tract], [pro...  \n",
       "3  [[], [], [chronic, failure, heart], [], [nativ...  \n",
       "4  [[], [], [native], [disorder], [disease], [], ...  "
      ]
     },
     "execution_count": 93,
     "metadata": {},
     "output_type": "execute_result"
    }
   ],
   "source": [
    "ssl = pd.Series( (v for v in keys_per_person) )\n",
    "final_parse['neurosynth_keys'] = ssl\n",
    "final_parse.head()"
   ]
  },
  {
   "cell_type": "code",
   "execution_count": 94,
   "metadata": {},
   "outputs": [
    {
     "data": {
      "text/html": [
       "<div>\n",
       "<style scoped>\n",
       "    .dataframe tbody tr th:only-of-type {\n",
       "        vertical-align: middle;\n",
       "    }\n",
       "\n",
       "    .dataframe tbody tr th {\n",
       "        vertical-align: top;\n",
       "    }\n",
       "\n",
       "    .dataframe thead th {\n",
       "        text-align: right;\n",
       "    }\n",
       "</style>\n",
       "<table border=\"1\" class=\"dataframe\">\n",
       "  <thead>\n",
       "    <tr style=\"text-align: right;\">\n",
       "      <th></th>\n",
       "      <th>CONCEPT_ID</th>\n",
       "      <th>CONCEPT_PATH</th>\n",
       "      <th>keys_list</th>\n",
       "    </tr>\n",
       "  </thead>\n",
       "  <tbody>\n",
       "    <tr>\n",
       "      <th>0</th>\n",
       "      <td>201826</td>\n",
       "      <td>NA||NA||NA||NA||Type 2 diabetes mellitus</td>\n",
       "      <td>[]</td>\n",
       "    </tr>\n",
       "    <tr>\n",
       "      <th>1</th>\n",
       "      <td>437827</td>\n",
       "      <td>NA||NA||NA||NA||Pure hypercholesterolemia</td>\n",
       "      <td>[]</td>\n",
       "    </tr>\n",
       "    <tr>\n",
       "      <th>2</th>\n",
       "      <td>140673</td>\n",
       "      <td>NA||NA||NA||NA||Hypothyroidism</td>\n",
       "      <td>[]</td>\n",
       "    </tr>\n",
       "    <tr>\n",
       "      <th>3</th>\n",
       "      <td>313217</td>\n",
       "      <td>NA||NA||NA||NA||Atrial fibrillation</td>\n",
       "      <td>[]</td>\n",
       "    </tr>\n",
       "    <tr>\n",
       "      <th>4</th>\n",
       "      <td>439926</td>\n",
       "      <td>NA||NA||NA||NA||Malaise and fatigue</td>\n",
       "      <td>[]</td>\n",
       "    </tr>\n",
       "  </tbody>\n",
       "</table>\n",
       "</div>"
      ],
      "text/plain": [
       "   CONCEPT_ID                               CONCEPT_PATH keys_list\n",
       "0      201826   NA||NA||NA||NA||Type 2 diabetes mellitus        []\n",
       "1      437827  NA||NA||NA||NA||Pure hypercholesterolemia        []\n",
       "2      140673             NA||NA||NA||NA||Hypothyroidism        []\n",
       "3      313217        NA||NA||NA||NA||Atrial fibrillation        []\n",
       "4      439926        NA||NA||NA||NA||Malaise and fatigue        []"
      ]
     },
     "execution_count": 94,
     "metadata": {},
     "output_type": "execute_result"
    }
   ],
   "source": [
    "symp_map = symptomlist.drop(columns='index')\n",
    "symp_map.head()\n"
   ]
  },
  {
   "cell_type": "code",
   "execution_count": 95,
   "metadata": {},
   "outputs": [
    {
     "data": {
      "text/html": [
       "<div>\n",
       "<style scoped>\n",
       "    .dataframe tbody tr th:only-of-type {\n",
       "        vertical-align: middle;\n",
       "    }\n",
       "\n",
       "    .dataframe tbody tr th {\n",
       "        vertical-align: top;\n",
       "    }\n",
       "\n",
       "    .dataframe thead th {\n",
       "        text-align: right;\n",
       "    }\n",
       "</style>\n",
       "<table border=\"1\" class=\"dataframe\">\n",
       "  <thead>\n",
       "    <tr style=\"text-align: right;\">\n",
       "      <th></th>\n",
       "      <th>person_id</th>\n",
       "      <th>diagnosis_id</th>\n",
       "      <th>diagnosis</th>\n",
       "      <th>symptom_id</th>\n",
       "      <th>neurosynth_key</th>\n",
       "    </tr>\n",
       "  </thead>\n",
       "  <tbody>\n",
       "    <tr>\n",
       "      <th>0</th>\n",
       "      <td>1928</td>\n",
       "      <td>137519</td>\n",
       "      <td>thyrotoxicosis from ectopic thyroid nodule wit...</td>\n",
       "      <td>440977</td>\n",
       "      <td>[]</td>\n",
       "    </tr>\n",
       "    <tr>\n",
       "      <th>0</th>\n",
       "      <td>1928</td>\n",
       "      <td>137519</td>\n",
       "      <td>thyrotoxicosis from ectopic thyroid nodule wit...</td>\n",
       "      <td>42872402</td>\n",
       "      <td>[native]</td>\n",
       "    </tr>\n",
       "    <tr>\n",
       "      <th>0</th>\n",
       "      <td>1928</td>\n",
       "      <td>137519</td>\n",
       "      <td>thyrotoxicosis from ectopic thyroid nodule wit...</td>\n",
       "      <td>443597</td>\n",
       "      <td>[disease, stage]</td>\n",
       "    </tr>\n",
       "    <tr>\n",
       "      <th>0</th>\n",
       "      <td>1928</td>\n",
       "      <td>137519</td>\n",
       "      <td>thyrotoxicosis from ectopic thyroid nodule wit...</td>\n",
       "      <td>137829</td>\n",
       "      <td>[]</td>\n",
       "    </tr>\n",
       "    <tr>\n",
       "      <th>0</th>\n",
       "      <td>1928</td>\n",
       "      <td>137519</td>\n",
       "      <td>thyrotoxicosis from ectopic thyroid nodule wit...</td>\n",
       "      <td>201826</td>\n",
       "      <td>[]</td>\n",
       "    </tr>\n",
       "  </tbody>\n",
       "</table>\n",
       "</div>"
      ],
      "text/plain": [
       "   person_id  diagnosis_id                                          diagnosis  \\\n",
       "0       1928        137519  thyrotoxicosis from ectopic thyroid nodule wit...   \n",
       "0       1928        137519  thyrotoxicosis from ectopic thyroid nodule wit...   \n",
       "0       1928        137519  thyrotoxicosis from ectopic thyroid nodule wit...   \n",
       "0       1928        137519  thyrotoxicosis from ectopic thyroid nodule wit...   \n",
       "0       1928        137519  thyrotoxicosis from ectopic thyroid nodule wit...   \n",
       "\n",
       "   symptom_id    neurosynth_key  \n",
       "0      440977                []  \n",
       "0    42872402          [native]  \n",
       "0      443597  [disease, stage]  \n",
       "0      137829                []  \n",
       "0      201826                []  "
      ]
     },
     "execution_count": 95,
     "metadata": {},
     "output_type": "execute_result"
    }
   ],
   "source": [
    "# expand all symptoms\n",
    "symptom_list = final_parse.loc[:,['person_id','symptom_id_list']]\n",
    "symptom_list.head()\n",
    "\n",
    "neuro_list = final_parse.loc[:,['person_id','neurosynth_keys']]\n",
    "neuro_list.head()\n",
    "\n",
    "s = symptom_list.apply(lambda x: pd.Series(x['symptom_id_list']),axis=1).stack().reset_index(level=1, drop=True)\n",
    "s.name = 'symptom_id'\n",
    "s = s.apply(int)\n",
    "\n",
    "n = neuro_list.apply(lambda x: pd.Series(x['neurosynth_keys']),axis=1).stack().reset_index(level=1, drop=True)\n",
    "n.name = 'neurosynth_key'\n",
    "n.head()\n",
    "\n",
    "combine = pd.concat([s, n], axis=1)\n",
    "symptom_list.head()\n",
    "\n",
    "second_parse = final_parse.loc[:,['person_id','diagnosis_id','diagnosis']]\n",
    "\n",
    "second_parse = second_parse.join(combine)\n",
    "second_parse.head()"
   ]
  },
  {
   "cell_type": "code",
   "execution_count": 102,
   "metadata": {},
   "outputs": [
    {
     "data": {
      "text/plain": [
       "person_id         44256\n",
       "diagnosis_id      44256\n",
       "diagnosis         44256\n",
       "symptom_id        44256\n",
       "neurosynth_key    44256\n",
       "dtype: int64"
      ]
     },
     "execution_count": 102,
     "metadata": {},
     "output_type": "execute_result"
    }
   ],
   "source": [
    "# delete all symptoms with no neurosynth key match\n",
    "# third_parse = second_parse[second_parse['neurosynth_key'].apply(len())]\n",
    "second_parse = second_parse.reset_index(drop=True)\n",
    "def isempty(x):\n",
    "    if x==[]:\n",
    "        return False\n",
    "    else:\n",
    "        return True\n",
    "\n",
    "third_parse = second_parse[second_parse['neurosynth_key'].apply(isempty)]\n",
    "third_parse.count()"
   ]
  },
  {
   "cell_type": "code",
   "execution_count": 103,
   "metadata": {},
   "outputs": [],
   "source": [
    "to_save = third_parse.merge(symp_map.loc[:,['CONCEPT_ID','CONCEPT_PATH']].rename(columns={'CONCEPT_ID':'symptom_id'}), how='left', on='symptom_id')"
   ]
  },
  {
   "cell_type": "code",
   "execution_count": 104,
   "metadata": {},
   "outputs": [],
   "source": [
    "to_save['symptom_name'] = to_save.CONCEPT_PATH.str.split('|').str[-1]"
   ]
  },
  {
   "cell_type": "code",
   "execution_count": 105,
   "metadata": {},
   "outputs": [
    {
     "name": "stdout",
     "output_type": "stream",
     "text": [
      "mkdir: cannot create directory ‘./clint/docs/example_data’: File exists\r\n"
     ]
    }
   ],
   "source": [
    "! mkdir ./clint/docs/example_data"
   ]
  },
  {
   "cell_type": "code",
   "execution_count": 107,
   "metadata": {},
   "outputs": [],
   "source": [
    "to_save.to_pickle('./clint/docs/example_data/symptom_table_1.pkz')"
   ]
  },
  {
   "cell_type": "code",
   "execution_count": 108,
   "metadata": {},
   "outputs": [],
   "source": [
    "# Get a list of all symptom feature name\n",
    "# symp_map['CONCEPT_PATH'][symp_map['CONCEPT_ID']==193136]\n",
    "symp_name = []\n",
    "for i in list(third_parse['symptom_id']):\n",
    "    symp_name.append(list(symp_map['CONCEPT_PATH'][symp_map['CONCEPT_ID']==i]))"
   ]
  },
  {
   "cell_type": "code",
   "execution_count": 109,
   "metadata": {},
   "outputs": [
    {
     "data": {
      "text/plain": [
       "0    [NA||NA||NA||NA||Coronary arteriosclerosis in ...\n",
       "1     [NA||NA||NA||NA||Chronic kidney disease stage 3]\n",
       "2            [NA||NA||NA||NA||Disorder of soft tissue]\n",
       "3    [NA||NA||NA||NA||Intra-abdominal and pelvic sw...\n",
       "4    [NA||NA||NA||NA||Malignant neoplasm of skin of...\n",
       "dtype: object"
      ]
     },
     "execution_count": 109,
     "metadata": {},
     "output_type": "execute_result"
    }
   ],
   "source": [
    "symp_name_list = pd.Series( (v for v in symp_name) )\n",
    "symp_name_list.head()"
   ]
  },
  {
   "cell_type": "code",
   "execution_count": 110,
   "metadata": {},
   "outputs": [
    {
     "data": {
      "text/html": [
       "<div>\n",
       "<style scoped>\n",
       "    .dataframe tbody tr th:only-of-type {\n",
       "        vertical-align: middle;\n",
       "    }\n",
       "\n",
       "    .dataframe tbody tr th {\n",
       "        vertical-align: top;\n",
       "    }\n",
       "\n",
       "    .dataframe thead th {\n",
       "        text-align: right;\n",
       "    }\n",
       "</style>\n",
       "<table border=\"1\" class=\"dataframe\">\n",
       "  <thead>\n",
       "    <tr style=\"text-align: right;\">\n",
       "      <th></th>\n",
       "      <th>person_id</th>\n",
       "      <th>diagnosis</th>\n",
       "      <th>symptom_id_list</th>\n",
       "      <th>neurosynth_keys</th>\n",
       "    </tr>\n",
       "  </thead>\n",
       "  <tbody>\n",
       "    <tr>\n",
       "      <th>590</th>\n",
       "      <td>347655</td>\n",
       "      <td>dementia of frontal lobe type</td>\n",
       "      <td>[440556, 437390, 434894, 261880, 193493, 43521...</td>\n",
       "      <td>[[], [], [post], [], [disease], [acute, residu...</td>\n",
       "    </tr>\n",
       "    <tr>\n",
       "      <th>591</th>\n",
       "      <td>347655</td>\n",
       "      <td>frontal lobe syndrome</td>\n",
       "      <td>[440556, 437390, 434894, 261880, 193493, 43521...</td>\n",
       "      <td>[[], [], [post], [], [disease], [acute, residu...</td>\n",
       "    </tr>\n",
       "    <tr>\n",
       "      <th>592</th>\n",
       "      <td>347945</td>\n",
       "      <td>malignant neoplasm of parietal lobe</td>\n",
       "      <td>[373503, 380378, 317898, 4108356, 443211, 3728...</td>\n",
       "      <td>[[cerebral], [], [essential], [cerebral], [], ...</td>\n",
       "    </tr>\n",
       "    <tr>\n",
       "      <th>593</th>\n",
       "      <td>348369</td>\n",
       "      <td>primary malignant neoplasm of cerebellum</td>\n",
       "      <td>[40481762, 140673, 319835, 374022, 436222, 437...</td>\n",
       "      <td>[[disease, late], [], [failure, heart], [], [m...</td>\n",
       "    </tr>\n",
       "    <tr>\n",
       "      <th>594</th>\n",
       "      <td>348416</td>\n",
       "      <td>dementia of frontal lobe type</td>\n",
       "      <td>[313878, 441258, 42872402, 318800, 439697, 433...</td>\n",
       "      <td>[[symptom], [disease], [native], [disease], [d...</td>\n",
       "    </tr>\n",
       "  </tbody>\n",
       "</table>\n",
       "</div>"
      ],
      "text/plain": [
       "     person_id                                 diagnosis  \\\n",
       "590     347655             dementia of frontal lobe type   \n",
       "591     347655                     frontal lobe syndrome   \n",
       "592     347945       malignant neoplasm of parietal lobe   \n",
       "593     348369  primary malignant neoplasm of cerebellum   \n",
       "594     348416             dementia of frontal lobe type   \n",
       "\n",
       "                                       symptom_id_list  \\\n",
       "590  [440556, 437390, 434894, 261880, 193493, 43521...   \n",
       "591  [440556, 437390, 434894, 261880, 193493, 43521...   \n",
       "592  [373503, 380378, 317898, 4108356, 443211, 3728...   \n",
       "593  [40481762, 140673, 319835, 374022, 436222, 437...   \n",
       "594  [313878, 441258, 42872402, 318800, 439697, 433...   \n",
       "\n",
       "                                       neurosynth_keys  \n",
       "590  [[], [], [post], [], [disease], [acute, residu...  \n",
       "591  [[], [], [post], [], [disease], [acute, residu...  \n",
       "592  [[cerebral], [], [essential], [cerebral], [], ...  \n",
       "593  [[disease, late], [], [failure, heart], [], [m...  \n",
       "594  [[symptom], [disease], [native], [disease], [d...  "
      ]
     },
     "execution_count": 110,
     "metadata": {},
     "output_type": "execute_result"
    }
   ],
   "source": [
    "neurosynth_parse = final_parse.drop(columns = ['diagnosis_id'])\n",
    "neurosynth_parse.tail()"
   ]
  },
  {
   "cell_type": "code",
   "execution_count": 111,
   "metadata": {},
   "outputs": [],
   "source": [
    "# Clean all the empty symptom keys\n",
    "import pickle as pk\n",
    "\n",
    "file_Name = \"patient_symptoms_3\"\n",
    "# open the file for writing\n",
    "fileObject = open(file_Name,'wb') \n",
    "\n",
    "# this writes the object a to the\n",
    "# file named 'testfile'\n",
    "# pk.dump(neurosynth_parse,fileObject)   \n",
    "pk.dump(third_parse,fileObject)   \n",
    "\n",
    "# here we close the fileObject\n",
    "fileObject.close()"
   ]
  },
  {
   "cell_type": "code",
   "execution_count": 112,
   "metadata": {},
   "outputs": [],
   "source": [
    "import pickle\n",
    "\n",
    "def get_label_map():\n",
    "    levels = ['region', 'hemisphere_region', 'lobe', 'gyrus', 'tissue', 'sub-label']\n",
    "    label_map = {}\n",
    "    for level in levels:\n",
    "        with open ('/home/ubuntu/zehai/clint/data/%s_label_map.pkz'%level, 'rb') as h:\n",
    "            label_map.update(pickle.load( h))\n",
    "    return label_map\n",
    "brain_label_map = get_label_map()"
   ]
  },
  {
   "cell_type": "code",
   "execution_count": 113,
   "metadata": {},
   "outputs": [
    {
     "name": "stdout",
     "output_type": "stream",
     "text": [
      "Brodmann area 23\n"
     ]
    }
   ],
   "source": [
    "# convert the map list to lower case\n",
    "map_list = [x for x in list(brain_label_map.keys())]\n",
    "a = map_list[0]\n",
    "print (a)\n",
    "# brain_label_map[a]\n",
    "\n",
    "map_dim = np.shape(brain_label_map[a])"
   ]
  },
  {
   "cell_type": "code",
   "execution_count": 114,
   "metadata": {},
   "outputs": [
    {
     "data": {
      "text/html": [
       "<div>\n",
       "<style scoped>\n",
       "    .dataframe tbody tr th:only-of-type {\n",
       "        vertical-align: middle;\n",
       "    }\n",
       "\n",
       "    .dataframe tbody tr th {\n",
       "        vertical-align: top;\n",
       "    }\n",
       "\n",
       "    .dataframe thead th {\n",
       "        text-align: right;\n",
       "    }\n",
       "</style>\n",
       "<table border=\"1\" class=\"dataframe\">\n",
       "  <thead>\n",
       "    <tr style=\"text-align: right;\">\n",
       "      <th></th>\n",
       "      <th>person_id</th>\n",
       "      <th>diagnosis_id</th>\n",
       "      <th>diagnosis</th>\n",
       "      <th>symptom_id</th>\n",
       "      <th>neurosynth_key</th>\n",
       "    </tr>\n",
       "  </thead>\n",
       "  <tbody>\n",
       "    <tr>\n",
       "      <th>1</th>\n",
       "      <td>1928</td>\n",
       "      <td>137519</td>\n",
       "      <td>thyrotoxicosis from ectopic thyroid nodule wit...</td>\n",
       "      <td>42872402</td>\n",
       "      <td>[native]</td>\n",
       "    </tr>\n",
       "    <tr>\n",
       "      <th>2</th>\n",
       "      <td>1928</td>\n",
       "      <td>137519</td>\n",
       "      <td>thyrotoxicosis from ectopic thyroid nodule wit...</td>\n",
       "      <td>443597</td>\n",
       "      <td>[disease, stage]</td>\n",
       "    </tr>\n",
       "    <tr>\n",
       "      <th>5</th>\n",
       "      <td>1928</td>\n",
       "      <td>137519</td>\n",
       "      <td>thyrotoxicosis from ectopic thyroid nodule wit...</td>\n",
       "      <td>376208</td>\n",
       "      <td>[tissue]</td>\n",
       "    </tr>\n",
       "    <tr>\n",
       "      <th>8</th>\n",
       "      <td>1928</td>\n",
       "      <td>137519</td>\n",
       "      <td>thyrotoxicosis from ectopic thyroid nodule wit...</td>\n",
       "      <td>4168222</td>\n",
       "      <td>[mass]</td>\n",
       "    </tr>\n",
       "    <tr>\n",
       "      <th>9</th>\n",
       "      <td>1928</td>\n",
       "      <td>137519</td>\n",
       "      <td>thyrotoxicosis from ectopic thyroid nodule wit...</td>\n",
       "      <td>4162993</td>\n",
       "      <td>[limb, skin]</td>\n",
       "    </tr>\n",
       "  </tbody>\n",
       "</table>\n",
       "</div>"
      ],
      "text/plain": [
       "   person_id  diagnosis_id                                          diagnosis  \\\n",
       "1       1928        137519  thyrotoxicosis from ectopic thyroid nodule wit...   \n",
       "2       1928        137519  thyrotoxicosis from ectopic thyroid nodule wit...   \n",
       "5       1928        137519  thyrotoxicosis from ectopic thyroid nodule wit...   \n",
       "8       1928        137519  thyrotoxicosis from ectopic thyroid nodule wit...   \n",
       "9       1928        137519  thyrotoxicosis from ectopic thyroid nodule wit...   \n",
       "\n",
       "   symptom_id    neurosynth_key  \n",
       "1    42872402          [native]  \n",
       "2      443597  [disease, stage]  \n",
       "5      376208          [tissue]  \n",
       "8     4168222            [mass]  \n",
       "9     4162993      [limb, skin]  "
      ]
     },
     "execution_count": 114,
     "metadata": {},
     "output_type": "execute_result"
    }
   ],
   "source": [
    "third_parse.head()"
   ]
  },
  {
   "cell_type": "code",
   "execution_count": 125,
   "metadata": {},
   "outputs": [
    {
     "data": {
      "text/plain": [
       "person_id         10\n",
       "diagnosis_id      10\n",
       "diagnosis         10\n",
       "symptom_id        10\n",
       "neurosynth_key    10\n",
       "dtype: int64"
      ]
     },
     "execution_count": 125,
     "metadata": {},
     "output_type": "execute_result"
    }
   ],
   "source": [
    "test_set = third_parse[:10]\n",
    "test_set.count()"
   ]
  },
  {
   "cell_type": "code",
   "execution_count": 124,
   "metadata": {},
   "outputs": [
    {
     "data": {
      "text/plain": [
       "['Brodmann area 23',\n",
       " 'Brodmann area 18',\n",
       " 'Brodmann area 8',\n",
       " 'Fastigium',\n",
       " 'Inferior Parietal Lobule',\n",
       " 'Brodmann area 41',\n",
       " 'Culmen',\n",
       " 'Brodmann area 39',\n",
       " 'Transverse Temporal Gyrus',\n",
       " 'Brodmann area 27',\n",
       " 'Brodmann area 25',\n",
       " 'Lateral Globus Pallidus',\n",
       " 'Ventral Posterior Medial Nucleus',\n",
       " 'Left Brainstem',\n",
       " 'Brodmann area 47',\n",
       " 'Cerebro-Spinal Fluid',\n",
       " 'Caudate Body',\n",
       " 'Tuber of Vermis',\n",
       " 'Temporal Lobe',\n",
       " 'Inferior Occipital Gyrus',\n",
       " 'Brodmann area 29',\n",
       " 'Brodmann area 40',\n",
       " 'Inter-Hemispheric',\n",
       " 'Brodmann area 31',\n",
       " 'Brodmann area 44',\n",
       " 'Postcentral Gyrus',\n",
       " 'Brodmann area 38',\n",
       " 'Brodmann area 21',\n",
       " 'Brodmann area 9',\n",
       " 'Cuneus',\n",
       " 'Superior Frontal Gyrus',\n",
       " 'Left Cerebrum',\n",
       " 'Anterior Nucleus',\n",
       " 'Medial Geniculum Body',\n",
       " 'Supramarginal Gyrus',\n",
       " 'Cerebrum',\n",
       " 'Pulvinar',\n",
       " 'Hippocampus',\n",
       " 'Brodmann area 33',\n",
       " 'Cerebellar Lingual',\n",
       " 'Dentate',\n",
       " 'Cingulate Gyrus',\n",
       " 'Uvula of Vermis',\n",
       " 'Precuneus',\n",
       " 'Putamen',\n",
       " 'Frontal Lobe',\n",
       " 'Brodmann area 43',\n",
       " 'Parahippocampal Gyrus',\n",
       " 'Insula',\n",
       " 'Medial Globus Pallidus',\n",
       " 'Anterior Lobe',\n",
       " 'Brodmann area 7',\n",
       " 'Left Cerebellum',\n",
       " 'Ventral Lateral Nucleus',\n",
       " 'Parietal Lobe',\n",
       " 'Middle Frontal Gyrus',\n",
       " 'Right Cerebellum',\n",
       " 'Anterior Cingulate',\n",
       " 'Inferior Frontal Gyrus',\n",
       " 'Medial Frontal Gyrus',\n",
       " 'Precentral Gyrus',\n",
       " 'Sub-Gyral',\n",
       " 'Superior Parietal Lobule',\n",
       " 'Extra-Nuclear',\n",
       " 'Ventral Posterior Lateral Nucleus',\n",
       " 'Posterior Lobe',\n",
       " 'Angular Gyrus',\n",
       " 'Corpus Callosum',\n",
       " 'Middle Occipital Gyrus',\n",
       " 'Lentiform Nucleus',\n",
       " 'Brodmann area 6',\n",
       " 'Tuber',\n",
       " 'Inferior Semi-Lunar Lobule',\n",
       " 'Uvula',\n",
       " 'Medial Dorsal Nucleus',\n",
       " 'Brodmann area 10',\n",
       " 'Brodmann area 28',\n",
       " 'Brodmann area 34',\n",
       " 'Brodmann area 11',\n",
       " 'Rectal Gyrus',\n",
       " 'Nodule',\n",
       " 'Brodmann area 45',\n",
       " 'Brodmann area 30',\n",
       " 'Claustrum',\n",
       " 'Subcallosal Gyrus',\n",
       " 'Declive of Vermis',\n",
       " 'Fusiform Gyrus',\n",
       " 'Brodmann area 19',\n",
       " 'Midline Nucleus',\n",
       " 'Subthalamic Nucleus',\n",
       " 'Caudate',\n",
       " 'Posterior Cingulate',\n",
       " 'Brodmann area 46',\n",
       " 'Brodmann area 24',\n",
       " 'Superior Occipital Gyrus',\n",
       " 'Midbrain',\n",
       " 'Ventral Anterior Nucleus',\n",
       " 'Middle Temporal Gyrus',\n",
       " 'Pyramis',\n",
       " 'Anterior Commissure',\n",
       " 'Substania Nigra',\n",
       " 'Brodmann area 32',\n",
       " 'Medulla',\n",
       " 'Fourth Ventricle',\n",
       " 'Uncus',\n",
       " 'Superior Temporal Gyrus',\n",
       " 'Lateral Ventricle',\n",
       " 'Optic Tract',\n",
       " 'Brodmann area 20',\n",
       " 'Third Ventricle',\n",
       " 'Limbic Lobe',\n",
       " 'Brodmann area 3',\n",
       " 'Cerebellum',\n",
       " 'Mammillary Body',\n",
       " 'Brodmann area 13',\n",
       " 'Brodmann area 37',\n",
       " 'Lingual Gyrus',\n",
       " 'Frontal-Temporal Space',\n",
       " 'Right Cerebrum',\n",
       " 'Brodmann area 42',\n",
       " 'Brodmann area 35',\n",
       " 'Pyramis of Vermis',\n",
       " 'Red Nucleus',\n",
       " 'Inferior Temporal Gyrus',\n",
       " 'Culmen of Vermis',\n",
       " 'Brodmann area 1',\n",
       " 'Lateral Dorsal Nucleus',\n",
       " 'Orbital Gyrus',\n",
       " 'Pons',\n",
       " 'Sub-lobar',\n",
       " 'Brodmann area 17',\n",
       " 'Cerebellar Tonsil',\n",
       " 'Right Brainstem',\n",
       " 'Hypothalamus',\n",
       " 'Brodmann area 2',\n",
       " 'Paracentral Lobule',\n",
       " 'Amygdala',\n",
       " 'Thalamus',\n",
       " 'Gray Matter',\n",
       " 'Brodmann area 5',\n",
       " 'Brodmann area 4',\n",
       " 'Declive',\n",
       " 'Caudate Head',\n",
       " 'Caudate Tail',\n",
       " 'Occipital Lobe',\n",
       " 'Brodmann area 22',\n",
       " 'Lateral Geniculum Body',\n",
       " 'Brodmann area 36',\n",
       " 'White Matter',\n",
       " 'Lateral Posterior Nucleus',\n",
       " 'Brainstem']"
      ]
     },
     "execution_count": 124,
     "metadata": {},
     "output_type": "execute_result"
    }
   ],
   "source": [
    "map_list"
   ]
  },
  {
   "cell_type": "code",
   "execution_count": 132,
   "metadata": {},
   "outputs": [
    {
     "data": {
      "text/plain": [
       "True"
      ]
     },
     "execution_count": 132,
     "metadata": {},
     "output_type": "execute_result"
    }
   ],
   "source": [
    "not not check_share_lexi('Brodmann area 23','Brodmannnnn area 25')"
   ]
  },
  {
   "cell_type": "code",
   "execution_count": 135,
   "metadata": {},
   "outputs": [],
   "source": [
    "# Map the brain diagnosis with brain map\n",
    "# for i in map_list: # loop over the entier map_list\n",
    "\n",
    "def check_share_lexi(a,b):\n",
    "    # check if two string lists overlap in a word sense\n",
    "    a = a.lower()\n",
    "    b = b.lower()\n",
    "    return list(set(a.split()) & set(b.split()))\n",
    "\n",
    "pic = []\n",
    "for patient_diag in list(third_parse.diagnosis):\n",
    "    person_map = np.zeros(map_dim)\n",
    "    for key in map_list:\n",
    "        if not not check_share_lexi(key,patient_diag):\n",
    "            person_map = np.logical_or(person_map,brain_label_map[key])\n",
    "    pic.append(person_map)\n"
   ]
  },
  {
   "cell_type": "code",
   "execution_count": 137,
   "metadata": {},
   "outputs": [
    {
     "data": {
      "text/plain": [
       "44256"
      ]
     },
     "execution_count": 137,
     "metadata": {},
     "output_type": "execute_result"
    }
   ],
   "source": [
    "len(pic)"
   ]
  },
  {
   "cell_type": "code",
   "execution_count": 162,
   "metadata": {},
   "outputs": [
    {
     "data": {
      "text/plain": [
       "person_id       44256\n",
       "diagnosis_id    44256\n",
       "dtype: int64"
      ]
     },
     "execution_count": 162,
     "metadata": {},
     "output_type": "execute_result"
    }
   ],
   "source": [
    "brain_map = third_parse.loc[:,['person_id','diagnosis_id']]\n",
    "brain_map.count()"
   ]
  },
  {
   "cell_type": "code",
   "execution_count": 163,
   "metadata": {},
   "outputs": [
    {
     "data": {
      "text/plain": [
       "44256"
      ]
     },
     "execution_count": 163,
     "metadata": {},
     "output_type": "execute_result"
    }
   ],
   "source": [
    "img = pd.Series( (v for v in pic) )\n",
    "len(img)"
   ]
  },
  {
   "cell_type": "code",
   "execution_count": 165,
   "metadata": {},
   "outputs": [],
   "source": [
    "brain_map = brain_map.reset_index(drop=True)"
   ]
  },
  {
   "cell_type": "code",
   "execution_count": 166,
   "metadata": {},
   "outputs": [],
   "source": [
    "brain_map['map_img'] = img"
   ]
  },
  {
   "cell_type": "code",
   "execution_count": 167,
   "metadata": {},
   "outputs": [
    {
     "data": {
      "text/plain": [
       "person_id                                                    1928\n",
       "diagnosis_id                                               137519\n",
       "map_img         [[[False, False, False, False, False, False, F...\n",
       "Name: 0, dtype: object"
      ]
     },
     "execution_count": 167,
     "metadata": {},
     "output_type": "execute_result"
    }
   ],
   "source": [
    "brain_map.loc[0,:]"
   ]
  },
  {
   "cell_type": "code",
   "execution_count": null,
   "metadata": {},
   "outputs": [],
   "source": []
  },
  {
   "cell_type": "code",
   "execution_count": null,
   "metadata": {},
   "outputs": [],
   "source": [
    "brain_map.to_pickle('./clint/docs/example_data/brain_map.pkz')"
   ]
  },
  {
   "cell_type": "code",
   "execution_count": null,
   "metadata": {},
   "outputs": [],
   "source": []
  }
 ],
 "metadata": {
  "kernelspec": {
   "display_name": "Python 3",
   "language": "python",
   "name": "python3"
  },
  "language_info": {
   "codemirror_mode": {
    "name": "ipython",
    "version": 3
   },
   "file_extension": ".py",
   "mimetype": "text/x-python",
   "name": "python",
   "nbconvert_exporter": "python",
   "pygments_lexer": "ipython3",
   "version": "3.5.2"
  }
 },
 "nbformat": 4,
 "nbformat_minor": 2
}
